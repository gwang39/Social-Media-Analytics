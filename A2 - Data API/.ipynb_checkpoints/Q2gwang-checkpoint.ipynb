{
 "cells": [
  {
   "cell_type": "code",
   "execution_count": 9,
   "metadata": {
    "scrolled": true
   },
   "outputs": [
    {
     "name": "stdout",
     "output_type": "stream",
     "text": [
      "Please visit this URL to authorize this application: https://accounts.google.com/o/oauth2/auth?response_type=code&client_id=1050387993379-9mkno215fuj27de2k7re1hqh5mpr9uu9.apps.googleusercontent.com&redirect_uri=urn%3Aietf%3Awg%3Aoauth%3A2.0%3Aoob&scope=https%3A%2F%2Fwww.googleapis.com%2Fauth%2Fyoutube.force-ssl&state=0SPo7YTxI34kVuksYqPqntVaca5w4v&prompt=consent&access_type=offline\n",
      "Enter the authorization code: 4/7QABYYlEqWdUwtl3e6tQVy2tmx4jdFcvK2L7QtzDBh6sM-S4_HjLuTM\n",
      "Youtube Channel Statistics Comparisons - AWS vs. Google Cloud vs. MS Azure\n",
      "Channel - Amazon Web Services: 240971 subscribers and 31691021 views.\n",
      "Channel - Google Cloud Platform: 291123 subscribers and 16359488 views.\n",
      "Channel - Microsoft Azure: 82269 subscribers and 1895124 views.\n"
     ]
    }
   ],
   "source": [
    "# 605.633 Social Media Analytics\n",
    "# Guan Yue Wang\n",
    "# Module 2 Assignment Q2\n",
    "# 2019.02.10\n",
    "\n",
    "# Script to Read Youtube Statistics on major cloud service providers\n",
    "\n",
    "import os\n",
    "\n",
    "import google.oauth2.credentials\n",
    "\n",
    "from googleapiclient.discovery import build\n",
    "from googleapiclient.errors import HttpError\n",
    "from google_auth_oauthlib.flow import InstalledAppFlow\n",
    "\n",
    "# The CLIENT_SECRETS_FILE variable specifies the name of a file that contains\n",
    "# the OAuth 2.0 information for this application, including its client_id and\n",
    "# client_secret.\n",
    "CLIENT_SECRETS_FILE = \"client_secret.json\"\n",
    "\n",
    "# This OAuth 2.0 access scope allows for full read/write access to the\n",
    "# authenticated user's account and requires requests to use an SSL connection.\n",
    "SCOPES = ['https://www.googleapis.com/auth/youtube.force-ssl']\n",
    "API_SERVICE_NAME = 'youtube'\n",
    "API_VERSION = 'v3'\n",
    "\n",
    "def get_authenticated_service():\n",
    "  flow = InstalledAppFlow.from_client_secrets_file(CLIENT_SECRETS_FILE, SCOPES)\n",
    "  credentials = flow.run_console()\n",
    "  return build(API_SERVICE_NAME, API_VERSION, credentials = credentials)\n",
    "\n",
    "\n",
    "\n",
    "def channels_list_by_username(service, **kwargs):\n",
    "  results = service.channels().list(\n",
    "    **kwargs\n",
    "  ).execute()\n",
    "  \n",
    "  print('Channel - %s: %s subscribers and %s views.' %\n",
    "       (results['items'][0]['snippet']['title'],\n",
    "        results['items'][0]['statistics']['subscriberCount'],\n",
    "        results['items'][0]['statistics']['viewCount']))\n",
    "\n",
    "if __name__ == '__main__':\n",
    "  # When running locally, disable OAuthlib's HTTPs verification. When\n",
    "  # running in production *do not* leave this option enabled.\n",
    "  os.environ['OAUTHLIB_INSECURE_TRANSPORT'] = '1'\n",
    "  service = get_authenticated_service()\n",
    "  print('Youtube Channel Statistics Comparisons - AWS vs. Google Cloud vs. MS Azure')\n",
    "  channels_list_by_username(service,\n",
    "      part='snippet,contentDetails,statistics',\n",
    "      forUsername='AmazonWebServices')\n",
    "  channels_list_by_username(service,\n",
    "      part='snippet,contentDetails,statistics',\n",
    "      forUsername='googlecloudplatform')\n",
    "  channels_list_by_username(service,\n",
    "      part='snippet,contentDetails,statistics',\n",
    "      forUsername='windowsazure')"
   ]
  },
  {
   "cell_type": "code",
   "execution_count": null,
   "metadata": {},
   "outputs": [],
   "source": []
  }
 ],
 "metadata": {
  "kernelspec": {
   "display_name": "Python 3",
   "language": "python",
   "name": "python3"
  },
  "language_info": {
   "codemirror_mode": {
    "name": "ipython",
    "version": 3
   },
   "file_extension": ".py",
   "mimetype": "text/x-python",
   "name": "python",
   "nbconvert_exporter": "python",
   "pygments_lexer": "ipython3",
   "version": "3.7.1"
  }
 },
 "nbformat": 4,
 "nbformat_minor": 2
}
