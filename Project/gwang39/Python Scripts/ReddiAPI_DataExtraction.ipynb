{
 "cells": [
  {
   "cell_type": "code",
   "execution_count": 1,
   "metadata": {},
   "outputs": [],
   "source": [
    "# 605.633 Social Media Analytics\n",
    "# Guan Yue Wang\n",
    "\n",
    "# PRAW Script to Download Insurance and Markreting Related Subreddit\n",
    "__author__ = 'gwang'\n",
    "\n",
    "import praw\n",
    "import json\n",
    "from praw.models import MoreComments\n",
    "\n",
    "reddit = praw.Reddit(client_id='-7KmRm7QMgpLlQ',\n",
    "                client_secret='9hSWvBE6O3N7PFJAQ7_s_gq0yLY',\n",
    "                user_agent='605.433_gwang')\n"
   ]
  },
  {
   "cell_type": "code",
   "execution_count": 2,
   "metadata": {},
   "outputs": [],
   "source": [
    "# test\n",
    "#for submission in reddit.subreddit('insurance').top(limit=1000):\n",
    "#    if submission.title.find(\"life insurance\") != -1:\n",
    "#        print(submission.title)"
   ]
  },
  {
   "cell_type": "markdown",
   "metadata": {},
   "source": [
    "#### Insurance Related Subreddit Data Extraction"
   ]
  },
  {
   "cell_type": "code",
   "execution_count": 3,
   "metadata": {},
   "outputs": [],
   "source": [
    "file = open(\"data_personalfinancehot.txt\", \"w\",encoding='utf-8')\n",
    "for submission in reddit.subreddit('personalfinance').hot(limit=1000):\n",
    "    if submission.title.find(\"life insurance\") != -1:\n",
    "        for top_level_comment in submission.comments:\n",
    "            if isinstance(top_level_comment, MoreComments):\n",
    "                continue\n",
    "            file.write(str(top_level_comment.body) + '\\n')"
   ]
  },
  {
   "cell_type": "code",
   "execution_count": 4,
   "metadata": {},
   "outputs": [],
   "source": [
    "file = open(\"data_personalfinancetop.txt\", \"w\",encoding='utf-8')\n",
    "for submission in reddit.subreddit('personalfinance').top(limit=1000):\n",
    "    if submission.title.find(\"life insurance\") != -1:\n",
    "        for top_level_comment in submission.comments:\n",
    "            if isinstance(top_level_comment, MoreComments):\n",
    "                continue\n",
    "            file.write(str(top_level_comment.body) + '\\n')"
   ]
  },
  {
   "cell_type": "code",
   "execution_count": 5,
   "metadata": {},
   "outputs": [],
   "source": [
    "file = open(\"data_personalfinancecanadahot.txt\", \"w\",encoding='utf-8')\n",
    "for submission in reddit.subreddit('personalfinancecanada').hot(limit=1000):\n",
    "    if submission.title.find(\"life insurance\") != -1:\n",
    "        for top_level_comment in submission.comments:\n",
    "            if isinstance(top_level_comment, MoreComments):\n",
    "                continue\n",
    "            file.write(str(top_level_comment.body) + '\\n')"
   ]
  },
  {
   "cell_type": "code",
   "execution_count": 6,
   "metadata": {},
   "outputs": [],
   "source": [
    "file = open(\"data_personalfinancecanadatop.txt\", \"w\",encoding='utf-8')\n",
    "for submission in reddit.subreddit('personalfinancecanada').top(limit=1000):\n",
    "    if submission.title.find(\"life insurance\") != -1:\n",
    "        for top_level_comment in submission.comments:\n",
    "            if isinstance(top_level_comment, MoreComments):\n",
    "                continue\n",
    "            file.write(str(top_level_comment.body) + '\\n')"
   ]
  },
  {
   "cell_type": "code",
   "execution_count": 7,
   "metadata": {},
   "outputs": [],
   "source": [
    "file = open(\"data_insurancehot.txt\", \"w\",encoding='utf-8')\n",
    "for submission in reddit.subreddit('insurance').hot(limit=1000):\n",
    "    if submission.title.find(\"life insurance\") != -1:\n",
    "        for top_level_comment in submission.comments:\n",
    "            if isinstance(top_level_comment, MoreComments):\n",
    "                continue\n",
    "            file.write(str(top_level_comment.body) + '\\n')"
   ]
  },
  {
   "cell_type": "code",
   "execution_count": 8,
   "metadata": {},
   "outputs": [],
   "source": [
    "file = open(\"data_insurancetop.txt\", \"w\",encoding='utf-8')\n",
    "for submission in reddit.subreddit('insurance').top(limit=1000):\n",
    "    if submission.title.find(\"life insurance\") != -1:\n",
    "        for top_level_comment in submission.comments:\n",
    "            if isinstance(top_level_comment, MoreComments):\n",
    "                continue\n",
    "            file.write(str(top_level_comment.body) + '\\n')"
   ]
  },
  {
   "cell_type": "markdown",
   "metadata": {},
   "source": [
    "#### Marketing Related Subreddit Data Extraction"
   ]
  },
  {
   "cell_type": "code",
   "execution_count": 13,
   "metadata": {},
   "outputs": [],
   "source": [
    "file = open(\"data_generalmarketinghot.txt\", \"w\",encoding='utf-8')\n",
    "for submission in reddit.subreddit('marketing').hot(limit=1000):\n",
    "    for top_level_comment in submission.comments:\n",
    "        if isinstance(top_level_comment, MoreComments):\n",
    "            continue\n",
    "        file.write(str(top_level_comment.body) + '\\n')"
   ]
  },
  {
   "cell_type": "code",
   "execution_count": 15,
   "metadata": {},
   "outputs": [],
   "source": [
    "file = open(\"data_generalmarketingtop.txt\", \"w\",encoding='utf-8')\n",
    "for submission in reddit.subreddit('marketing').top(limit=1000):\n",
    "    for top_level_comment in submission.comments:\n",
    "        if isinstance(top_level_comment, MoreComments):\n",
    "            continue\n",
    "        file.write(str(top_level_comment.body) + '\\n')"
   ]
  },
  {
   "cell_type": "code",
   "execution_count": 11,
   "metadata": {},
   "outputs": [],
   "source": [
    "file = open(\"data_digitalmarketinghot.txt\", \"w\",encoding='utf-8')\n",
    "for submission in reddit.subreddit('digitalmarketing').hot(limit=1000):\n",
    "    for top_level_comment in submission.comments:\n",
    "        if isinstance(top_level_comment, MoreComments):\n",
    "            continue\n",
    "        file.write(str(top_level_comment.body) + '\\n')"
   ]
  },
  {
   "cell_type": "code",
   "execution_count": 14,
   "metadata": {},
   "outputs": [],
   "source": [
    "file = open(\"data_digitalmarketingtop.txt\", \"w\",encoding='utf-8')\n",
    "for submission in reddit.subreddit('digitalmarketing').top(limit=1000):\n",
    "    for top_level_comment in submission.comments:\n",
    "        if isinstance(top_level_comment, MoreComments):\n",
    "            continue\n",
    "        file.write(str(top_level_comment.body) + '\\n')"
   ]
  },
  {
   "cell_type": "code",
   "execution_count": null,
   "metadata": {},
   "outputs": [],
   "source": []
  }
 ],
 "metadata": {
  "anaconda-cloud": {},
  "kernelspec": {
   "display_name": "Python 3",
   "language": "python",
   "name": "python3"
  },
  "language_info": {
   "codemirror_mode": {
    "name": "ipython",
    "version": 3
   },
   "file_extension": ".py",
   "mimetype": "text/x-python",
   "name": "python",
   "nbconvert_exporter": "python",
   "pygments_lexer": "ipython3",
   "version": "3.7.1"
  }
 },
 "nbformat": 4,
 "nbformat_minor": 1
}
